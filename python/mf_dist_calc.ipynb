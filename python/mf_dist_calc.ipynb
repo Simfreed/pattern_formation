{
 "cells": [
  {
   "cell_type": "code",
   "execution_count": 1,
   "metadata": {},
   "outputs": [],
   "source": [
    "import numpy as np\n",
    "\n",
    "import cv2\n",
    "from skimage import io\n",
    "\n",
    "import scipy.ndimage as ndi\n",
    "from scipy.ndimage._ni_support import _normalize_sequence\n",
    "from scipy.spatial.distance import cdist\n",
    "from scipy.spatial import ConvexHull\n",
    "import scipy.io as scio\n",
    "import scipy.sparse as sp\n",
    "from sklearn.decomposition import PCA\n",
    "from sklearn.mixture import GaussianMixture as GMM\n",
    "\n",
    "import matplotlib\n",
    "\n",
    "from matplotlib import colors, ticker, gridspec, rc, transforms\n",
    "from matplotlib.ticker import PercentFormatter, LogFormatter, FuncFormatter, LogLocator, AutoMinorLocator\n",
    "from mpl_toolkits.axes_grid1 import make_axes_locatable\n",
    "from collections import Counter, OrderedDict\n",
    "\n",
    "import os\n",
    "from importlib import reload\n",
    "\n",
    "import sys\n",
    "sys.path.append('/Users/simonfreedman/cqub/bifurc/paper_figs')\n",
    "import myfun as mf\n",
    "\n",
    "# setup matplotlib latex use\n",
    "#matplotlib.use('agg')\n",
    "rc('text',usetex=True)\n",
    "rc('text.latex', preamble=r'\\usepackage{color}')\n",
    "os.environ[\"PATH\"] += os.pathsep + '/usr/local/texlive/2018/bin/x86_64-darwin'\n",
    "\n",
    "\n",
    "matplotlib.rc('text', usetex=True)\n",
    "matplotlib.rcParams['text.latex.preamble']=[r\"\\usepackage{amsmath}\"]\n",
    "\n",
    "import matplotlib.pyplot as plt\n",
    "import matplotlib.animation as animation\n",
    "import matplotlib.patches as mpatches\n",
    "\n",
    "\n",
    "import time\n",
    "import re\n",
    "import glob\n",
    "import pickle as pkl\n",
    "from scipy.spatial import Delaunay\n",
    "import networkx as nx\n",
    "\n",
    "import mat73"
   ]
  },
  {
   "cell_type": "code",
   "execution_count": null,
   "metadata": {},
   "outputs": [],
   "source": []
  },
  {
   "cell_type": "code",
   "execution_count": 2,
   "metadata": {},
   "outputs": [],
   "source": [
    "add1 = np.array([[1,0],[0,1],[-1,0],[0,-1]])\n",
    "add2 = 2*add1\n",
    "\n",
    "def edge_pix(pix):\n",
    "    \n",
    "    # returns the pixels from pix that are on the edge\n",
    "    # assumes cell is filled in\n",
    "    \n",
    "    pix_plus_one  = pix[:,np.newaxis] + add1[np.newaxis]\n",
    "    pix_set       = set([tuple(x) for x in pix]) \n",
    "    pix_plus1_set = set([tuple(x) for x in pix_plus_one.reshape((-1,2))])\n",
    "    outer_pix     = np.array(list(pix_plus1_set - pix_set)) # these are the pixels immediately outside the cell\n",
    "    outer_m1      = outer_pix[:,np.newaxis] + add1[np.newaxis] # shift back to within the cell\n",
    "    outer_m1_set  = set([tuple(x) for x in outer_m1.reshape((-1,2))])\n",
    "    return np.array(list(outer_m1_set & pix_set)) # intersect with the celladd2            = np.array([[2,0],[0,2],[-2,0],[0,-2]])\n",
    "\n",
    "# source: https://stackoverflow.com/questions/12374781/how-to-find-all-neighbors-of-a-given-point-in-a-delaunay-triangulation-using-sci\n",
    "def vertex_neighbors(vertex_id,tri):\n",
    "    #use a less awful function name\n",
    "    pointers = tri.vertex_neighbor_vertices[0]\n",
    "    indices  = tri.vertex_neighbor_vertices[1]\n",
    "    return indices[pointers[vertex_id]:pointers[vertex_id+1]]\n",
    "\n",
    "def cells_touching(edge_pix1, pix2):\n",
    "    \n",
    "    # returns true if two cells share an edge, false otherwise\n",
    "    \n",
    "    edge_plus_two = edge_pix1[:,np.newaxis,:]+add2[np.newaxis,:,:]\n",
    "    plus_two_set  = set([tuple(x) for x in edge_plus_two.reshape((-1,2))])\n",
    "    pix2_set      = set([tuple(x) for x in pix2])\n",
    "    return True if len(plus_two_set & pix2_set) > 0 else False\n",
    "\n",
    "def border_pix(cell_edge_pix, bound_pixel_set):\n",
    "    \n",
    "    edge_plus_two = cell_edge_pix[:,np.newaxis,:]+add2[np.newaxis,:,:]\n",
    "    plus_two_set  = set([tuple(x) for x in edge_plus_two.reshape((-1,2))])\n",
    "    \n",
    "    return np.array(list(plus_two_set & bound_pixel_set),dtype='int')\n",
    "\n",
    "def get_border_cells(edge_pixels, bound_pixels):\n",
    "    \n",
    "    bound_pixel_set = set([tuple(x) for x in bound_pixels])   \n",
    "    cell_border_pix = [border_pix(edge_pixels[i],bound_pixel_set) if len(edge_pixels[i])>0 else np.array([]) \n",
    "                       for i in range(len(edge_pixels))]\n",
    "    \n",
    "    return np.where(np.array(list(map(len,cell_border_pix)))>0)[0]"
   ]
  },
  {
   "cell_type": "code",
   "execution_count": 149,
   "metadata": {},
   "outputs": [],
   "source": [
    "headdir = '/Users/simonfreedman/'\n",
    "datdir  = '{0}/data/droso'.format(headdir)\n",
    "matdir  = '{0}/mats'.format(datdir)\n",
    "plotdir = '{0}/cqub/droso/plots'.format(headdir)\n",
    "nm      = 'wildtype3'\n",
    "fnm     = '{0}/{1}.mat'.format(matdir,nm)\n",
    "\n",
    "outdir  = '{0}/ommatidia_data/{1}/obs'.format(datdir,nm)"
   ]
  },
  {
   "cell_type": "code",
   "execution_count": 150,
   "metadata": {},
   "outputs": [],
   "source": [
    "if 'wildtype2' in nm or 'wildtype1' in nm:\n",
    "    dat1 = mat73.loadmat(fnm)\n",
    "else:\n",
    "    dat1 = scio.loadmat(fnm)"
   ]
  },
  {
   "cell_type": "code",
   "execution_count": 151,
   "metadata": {},
   "outputs": [],
   "source": [
    "#dat1['furrow_coordinate'].shape"
   ]
  },
  {
   "cell_type": "code",
   "execution_count": 152,
   "metadata": {},
   "outputs": [],
   "source": [
    "dat_res  = [51.72 / 1024, 50.71 / 634, 50.71 / 634, 61.6 / 704, 61.6 / 704]  # microns/ pixel\n",
    "pr_names = ['R8','R2','R5','R3','R4']"
   ]
  },
  {
   "cell_type": "markdown",
   "metadata": {},
   "source": [
    "precluster idxs stay constant across time\n",
    "but they aren't all tracked at every time\n",
    "so how do we deal with that\n",
    "at each time i need the pixels that are in that cell\n",
    "and i need the centroid of that cell\n",
    "so i need a list of dicts\n",
    "index of the list is the time \n",
    "other problems\n",
    "indexes start at 1 and not at 0\n",
    "1 in matlab (0 in python) gives me the boundary pixels\n",
    "so first \"cell\" is really the index 2\n",
    "\n",
    "simplest: \n",
    "    \n",
    "    pixels: a list of length sum(ncells(t), t=0, t=nt) of [Mx2] numpy arrays which has all the pixels of every cell at every time in the movie\n",
    "\n",
    "some arrays of size nt, ncell:\n",
    "    \n",
    "    (1) the indices of the cell in the list. if the cell i is not annotated at time t then should be -1\n",
    "    (2) the photoreceptor it belongs to, or -1\n",
    "    (3) 1 if it is in the morophogenetic furrow, 0 otherwise (to be created later)\n",
    "    (4) the track it is part of, -1 otherwise\n",
    "    \n",
    "    which is the indices of that cell in that list\n",
    "    a second array \n"
   ]
  },
  {
   "cell_type": "code",
   "execution_count": 153,
   "metadata": {},
   "outputs": [
    {
     "name": "stdout",
     "output_type": "stream",
     "text": [
      "t=0\n",
      "t=10\n",
      "t=20\n",
      "t=30\n",
      "t=40\n",
      "t=50\n",
      "t=60\n",
      "t=70\n",
      "t=80\n",
      "t=90\n"
     ]
    }
   ],
   "source": [
    "ntrack, nt         = dat1['tracks'].shape\n",
    "\n",
    "boundary_pixels    = []\n",
    "cell_pixels        = []\n",
    "cell_hull_pix_idxs = []\n",
    "cell_edge_pix      = []\n",
    "cell_pixel_idx     = np.zeros((nt, ntrack), dtype='int') - 1\n",
    "npix               = np.zeros((nt, ntrack))\n",
    "cell_ctr           = np.zeros((nt, ntrack, 2)) - np.nan\n",
    "\n",
    "\n",
    "k            = 0\n",
    "tracks       = np.array(dat1['tracks'],dtype=int) - 1 # matlab --> python indexing\n",
    "\n",
    "for t in np.arange(nt):\n",
    "    \n",
    "    if t%10 == 0:\n",
    "        print('t={0}'.format(t))\n",
    "        \n",
    "    for i in range(ntrack):\n",
    "        cell_id = tracks[i,t] \n",
    "        if cell_id >= 0: # don't care about the boundary\n",
    "            pix = np.array(dat1['cell_area'][t][0][cell_id][0], dtype=int) - 1\n",
    "            if cell_id == 0:\n",
    "                boundary_pixels.append(pix)\n",
    "            else:\n",
    "                cell_pixels.append(pix)\n",
    "                cell_hull_pix_idxs.append(ConvexHull(pix).vertices)\n",
    "                cell_edge_pix.append(edge_pix(pix))\n",
    "                cell_pixel_idx[t, i] = k\n",
    "                cell_ctr[t, i]       = np.mean(pix, axis=0)\n",
    "                npix[t, i]           = len(pix)\n",
    "                k += 1"
   ]
  },
  {
   "cell_type": "code",
   "execution_count": 154,
   "metadata": {},
   "outputs": [],
   "source": [
    "if 'scabrous' in nm or 'wildtype3' in nm:\n",
    "    # works for scabrous mutants....\n",
    "    precl_idxs = np.array([x[:,0] for x in dat1['preclusters'][0]], dtype='int')-1\n",
    "else:\n",
    "# works for datasets 1 and 2\n",
    "    precl_idxs = np.array(dat1['preclusters'], dtype='int') - 1\n",
    "\n",
    "photo_idxs = precl_idxs.reshape(-1)"
   ]
  },
  {
   "cell_type": "code",
   "execution_count": 155,
   "metadata": {},
   "outputs": [
    {
     "name": "stdout",
     "output_type": "stream",
     "text": [
      "t = 0/98\n",
      "t = 5/98\n",
      "t = 10/98\n",
      "t = 15/98\n",
      "t = 20/98\n",
      "t = 25/98\n",
      "t = 30/98\n",
      "t = 35/98\n",
      "t = 40/98\n",
      "t = 45/98\n",
      "t = 50/98\n",
      "t = 55/98\n",
      "t = 60/98\n",
      "t = 65/98\n",
      "t = 70/98\n",
      "t = 75/98\n",
      "t = 80/98\n",
      "t = 85/98\n",
      "t = 90/98\n",
      "t = 95/98\n"
     ]
    }
   ],
   "source": [
    "# find the border cells\n",
    "bord_cell_idxs = []\n",
    "for t in np.arange(nt):\n",
    "    if t%5==0:\n",
    "        print('t = {0}/{1}'.format(t,nt))\n",
    "    edge_pixels_t = [cell_edge_pix[cell_pixel_idx[t,i]] if cell_pixel_idx[t,i]!=-1 else [] for i in range(ntrack)]\n",
    "    bord_cell_idxs.append(get_border_cells(edge_pixels_t, boundary_pixels[t]))"
   ]
  },
  {
   "cell_type": "code",
   "execution_count": 156,
   "metadata": {},
   "outputs": [
    {
     "name": "stdout",
     "output_type": "stream",
     "text": [
      "t = 0/98\n",
      "t = 5/98\n",
      "t = 10/98\n",
      "t = 15/98\n",
      "t = 20/98\n",
      "t = 25/98\n",
      "t = 30/98\n",
      "t = 35/98\n",
      "t = 40/98\n",
      "t = 45/98\n",
      "t = 50/98\n",
      "t = 55/98\n",
      "t = 60/98\n",
      "t = 65/98\n",
      "t = 70/98\n",
      "t = 75/98\n",
      "t = 80/98\n",
      "t = 85/98\n",
      "t = 90/98\n",
      "t = 95/98\n"
     ]
    }
   ],
   "source": [
    "# find the MF cells\n",
    "threshs = {'wildtype1': [650, 10],\n",
    "           'wildtype2': [300, 10],\n",
    "           'wildtype3': [350, 10],\n",
    "          'scabrous_strong': [300,50],\n",
    "          'scabrous_weak'  : [350,50]}\n",
    "thresh          = threshs[nm][0] # dataset1 used 650, dataset2 dataset 3 used 350\n",
    "cc_thresh       = threshs[nm][1] # used 10 on datasets 1-3\n",
    "mf_idxs_all     = []\n",
    "small_cells_all = []\n",
    "simps_all       = []\n",
    "bound_verts_all = []\n",
    "\n",
    "nrow, ncol, nfrm = dat1['raw_images'].shape\n",
    "\n",
    "imgs = np.zeros((nt, nrow, ncol))\n",
    "for t in np.arange(nt):\n",
    "    if t%5==0:\n",
    "        print('t = {0}/{1}'.format(t,nt))\n",
    "    \n",
    "    pidxs = cell_pixel_idx[t]\n",
    "\n",
    "    \n",
    "    # generate the triangulation using the cells that are actually tracked at time t\n",
    "    cidxs    = np.where(npix[t]>0)[0]\n",
    "    cctrs    = cell_ctr[t, cidxs]\n",
    "    tri      = Delaunay(cctrs)\n",
    "\n",
    "    small_cell_idxs   = np.where(npix[t, cidxs]<thresh)[0]\n",
    "    small_cells_graph = nx.Graph()\n",
    "\n",
    "    for i in small_cell_idxs:\n",
    "        if cidxs[i] in bord_cell_idxs[t]: # don't use border cells to make edges, bc yields non-neighbor edges\n",
    "            continue\n",
    "        neighbors = np.intersect1d(vertex_neighbors(i,tri),small_cell_idxs)\n",
    "        \n",
    "        #if -1 not in neighbors: #another check that its not a border cell; probably unnecessary now\n",
    "        for j in neighbors:\n",
    "            if not small_cells_graph.has_edge(i,j):\n",
    "                # additional check that the two cells are touching?\n",
    "                # this is slow :(\n",
    "                if cells_touching(cell_edge_pix[pidxs[cidxs[i]]], \n",
    "                                  cell_pixels[pidxs[cidxs[j]]]):\n",
    "                    small_cells_graph.add_edge(i,j)\n",
    "    \n",
    "    ccs          = list(nx.connected_components(small_cells_graph))\n",
    "    big_cc_cidxs = np.hstack([list(ccs[i]) for i in range(len(ccs)) if len(ccs[i])>cc_thresh])\n",
    "    mf_idxs      = np.setdiff1d(cidxs[big_cc_cidxs], photo_idxs)\n",
    "    \n",
    "    # gmm filtering\n",
    "    ctrs = cell_ctr[t,mf_idxs][:,[0]]\n",
    "    gmms = [GMM(n_components=i).fit(ctrs) for i in [1,2]]\n",
    "    bics = np.array([x.bic(ctrs) for x in gmms])\n",
    "    \n",
    "    if bics[0]>bics[1]*1.01:\n",
    "        clust_labels = gmms[1].predict(ctrs)\n",
    "        n1 = np.sum(clust_labels)\n",
    "        n0 = clust_labels.shape[0]-n1\n",
    "        longer_cluster_idx = int(n0<n1)\n",
    "        mf_idxs = mf_idxs[clust_labels==longer_cluster_idx]\n",
    "    \n",
    "    # end of gmm filtering\n",
    "    \n",
    "    small_cells_all.append(cidxs[small_cell_idxs])\n",
    "    mf_idxs_all.append(mf_idxs)\n",
    "    \n",
    "    for i in cidxs:\n",
    "        imgs[t, cell_pixels[pidxs[i]][:,0], cell_pixels[pidxs[i]][:,1]]=1\n",
    "    for i in cidxs[small_cell_idxs]:\n",
    "        imgs[t, cell_pixels[pidxs[i]][:,0], cell_pixels[pidxs[i]][:,1]]=2\n",
    "    for i in np.intersect1d(photo_idxs, cidxs):\n",
    "        imgs[t, cell_pixels[pidxs[i]][:,0], cell_pixels[pidxs[i]][:,1]]=3\n",
    "    for i in mf_idxs:\n",
    "        imgs[t, cell_pixels[pidxs[i]][:,0], cell_pixels[pidxs[i]][:,1]]=4\n"
   ]
  },
  {
   "cell_type": "code",
   "execution_count": 157,
   "metadata": {},
   "outputs": [
    {
     "data": {
      "text/plain": [
       "[<matplotlib.lines.Line2D at 0x7fb4e7e1cc50>]"
      ]
     },
     "execution_count": 157,
     "metadata": {},
     "output_type": "execute_result"
    },
    {
     "data": {
      "image/png": "[encoded data removed]",
      "text/plain": [
       "<Figure size 720x720 with 1 Axes>"
      ]
     },
     "metadata": {
      "needs_background": "light"
     },
     "output_type": "display_data"
    }
   ],
   "source": [
    "t = 0\n",
    "mf_pix = np.vstack([cell_pixels[cell_pixel_idx[t, k]] for k in mf_idxs_all[t]])\n",
    "fig,axs=plt.subplots(1,1,figsize=(10,10))\n",
    "axs.imshow(imgs[t])\n",
    "axs.axhline(np.mean(pix[:,0])-1*np.std(pix[:,0]), color='red')\n",
    "axs.axhline(np.mean(pix[:,0])+1*np.std(pix[:,0]), color='red')\n",
    "\n",
    "mf_pca = PCA().fit(mf_pix)\n",
    "mf_mu = np.mean(mf_pix,axis=0)\n",
    "\n",
    "pts0 = np.vstack([mf_mu,mf_mu+500*mf_pca.components_[0],mf_mu-500*mf_pca.components_[0]])\n",
    "pts1 = np.vstack([mf_mu,mf_mu+500*mf_pca.components_[1],mf_mu-500*mf_pca.components_[1]])\n",
    "\n",
    "axs.plot(pts0[:,1],pts0[:,0],'ko-')\n",
    "axs.plot(pts1[:,1],pts1[:,0],'co-')"
   ]
  },
  {
   "cell_type": "code",
   "execution_count": 158,
   "metadata": {},
   "outputs": [],
   "source": [
    "mf_pix = [np.vstack([cell_pixels[cell_pixel_idx[t, k]] for k in mf_idxs_all[t]]) for t in range(nt)]\n",
    "mf_center = np.array([np.mean(mf_pix[t], axis=0) for t in range(nt)])\n",
    "mf_axes = np.array([PCA().fit(p).components_ for p in mf_pix])"
   ]
  },
  {
   "cell_type": "code",
   "execution_count": 159,
   "metadata": {},
   "outputs": [],
   "source": [
    "# # compute cell dists to MF\n",
    "# mf_dist_par   = np.zeros((nt, ntrack)) - np.nan\n",
    "# mf_dist_perp  = np.zeros((nt, ntrack)) - np.nan\n",
    "\n",
    "# for t in np.arange(nt):\n",
    "#     cidxs = np.where(npix[t]>0)[0]\n",
    "    \n",
    "#     col_mu    = np.mean(cell_ctr[t, cidxs],axis=0)[1] # (horizontal -- center of all cells, bc otherwise wonky)\n",
    "#     row_mu    = np.mean(cell_ctr[t, mf_idxs_all[t]],axis=0)[0] # (vertical -- center of mf cells)\n",
    "    \n",
    "#     mf_mu     = np.array([row_mu, col_mu])\n",
    "#     mf_dist_par[t,cidxs]  = (cell_ctr[t,cidxs] - mf_mu).dot(mf_axes[t,0])\n",
    "#     mf_dist_perp[t,cidxs] = (cell_ctr[t,cidxs] - mf_mu).dot(mf_axes[t,1])"
   ]
  },
  {
   "cell_type": "code",
   "execution_count": 160,
   "metadata": {},
   "outputs": [
    {
     "name": "stderr",
     "output_type": "stream",
     "text": [
      "/Users/simonfreedman/opt/anaconda3/envs/img/lib/python3.7/site-packages/ipykernel_launcher.py:14: RuntimeWarning: divide by zero encountered in true_divide\n",
      "  \n"
     ]
    }
   ],
   "source": [
    "# compute cell dists to MF\n",
    "nt = dat1['raw_images'].shape[-1] # only 117... vs should be 120\n",
    "dist_mu   = np.zeros((nt, ntrack)) - np.nan\n",
    "distx_mu  = np.zeros((nt, ntrack)) - np.nan\n",
    "disty_mu  = np.zeros((nt, ntrack)) - np.nan\n",
    "dist_std  = np.zeros((nt, ntrack)) - np.nan\n",
    "distx_std = np.zeros((nt, ntrack)) - np.nan\n",
    "disty_std = np.zeros((nt, ntrack)) - np.nan\n",
    "\n",
    "mf_dist_par   = np.zeros((nt, ntrack)) - np.nan\n",
    "mf_dist_perp  = np.zeros((nt, ntrack)) - np.nan\n",
    "\n",
    "cell_ecad = np.zeros((nt, ntrack)) - np.nan\n",
    "cell_dens = 1./npix #np.zeros((nt, ntrack)) - np.nan\n",
    "\n",
    "\n",
    "for t in np.arange(nt):\n",
    "    cidxs = np.where(npix[t]>0)[0]\n",
    "    # define distances c - MF ...\n",
    "    # so    patterned (high) cells should have negative x (row) distance\n",
    "    # and unpatterned (low) cells should have positive x (row) distance\n",
    "    dists              = cell_ctr[t,cidxs][:,np.newaxis] - cell_ctr[t,mf_idxs_all[t]][np.newaxis]\n",
    "    norm_dists         = np.linalg.norm(dists, axis=2)\n",
    "    dist_mu[t,cidxs]   = np.mean(norm_dists,axis=1)\n",
    "    dist_std[t,cidxs]  = np.std(norm_dists,axis=1)\n",
    "    \n",
    "    distx_mu[t,cidxs]  = np.mean(dists[...,0],axis=1)\n",
    "    distx_std[t,cidxs] = np.std(dists[...,0],axis=1)\n",
    "    \n",
    "    disty_mu[t,cidxs]  = np.mean(dists[...,1],axis=1)\n",
    "    disty_std[t,cidxs] = np.std(dists[...,1],axis=1)\n",
    "    \n",
    "    for c in cidxs:\n",
    "        cpix           = cell_pixels[cell_pixel_idx[t,c]]\n",
    "        cell_ecad[t, c] = np.sum(dat1['raw_images'][cpix[:,0],cpix[:,1],t])\n",
    "        \n",
    "    # pca distance\n",
    "    col_mu    = np.mean(cell_ctr[t, cidxs],axis=0)[1] # (horizontal -- center of all cells, bc otherwise wonky)\n",
    "    row_mu    = np.mean(cell_ctr[t, mf_idxs_all[t]],axis=0)[0] # (vertical -- center of mf cells)\n",
    "    \n",
    "    mf_mu     = np.array([row_mu, col_mu])\n",
    "    mf_dist_par[t,cidxs]  = (cell_ctr[t,cidxs] - mf_mu).dot(mf_axes[t,0])\n",
    "    mf_dist_perp[t,cidxs] = (cell_ctr[t,cidxs] - mf_mu).dot(mf_axes[t,1])\n",
    "\n",
    "aspect_ratios = np.array([np.divide(*PCA().fit(c).explained_variance_) for c in cell_pixels])"
   ]
  },
  {
   "cell_type": "code",
   "execution_count": 161,
   "metadata": {},
   "outputs": [],
   "source": [
    "# saving stuff\n",
    "\n",
    "np.save('{0}/dist_par.npy'.format(outdir),  mf_dist_par)\n",
    "np.save('{0}/dist_perp.npy'.format(outdir), mf_dist_perp)\n",
    "\n",
    "np.save('{0}/xdist_mu.npy'.format(outdir), distx_mu)\n",
    "np.save('{0}/ydist_mu.npy'.format(outdir), disty_mu)\n",
    "np.save('{0}/xdist_std.npy'.format(outdir),distx_std)\n",
    "np.save('{0}/ydist_std.npy'.format(outdir),disty_std)\n",
    "\n",
    "np.save('{0}/npix.npy'.format(outdir), npix[0:nt])\n",
    "np.save('{0}/ecad_tot.npy'.format(outdir), cell_ecad)\n",
    "\n",
    "np.save('{0}/cell_ctr.npy'.format(outdir), cell_ctr)\n",
    "\n",
    "f = open('{0}/mf_idxs.pkl'.format(outdir), 'wb')   # Pickle file is newly created where foo1.py is\n",
    "pkl.dump(mf_idxs_all, f)          # dump data to f\n",
    "f.close()\n",
    "\n",
    "np.save('{0}/precluster_idxs.npy'.format(outdir), precl_idxs)\n",
    "np.save('{0}/cell_pixel_idx.npy'.format(outdir), cell_pixel_idx)\n",
    "np.save('{0}/cell_aspect_ratio.npy'.format(outdir), aspect_ratios[cell_pixel_idx])\n",
    "\n",
    "\n",
    "f = open('{0}/cell_edge_pix.pkl'.format(outdir), 'wb')   # Pickle file is newly created where foo1.py is\n",
    "pkl.dump(cell_edge_pix, f)          # dump data to f\n",
    "f.close()"
   ]
  },
  {
   "cell_type": "code",
   "execution_count": 128,
   "metadata": {},
   "outputs": [],
   "source": [
    "t=116\n",
    "cidxs  = np.where(npix[t]>0)[0]\n",
    "col_mu = np.mean(cell_ctr[t, cidxs],axis=0)[1]\n",
    "row_mu = np.mean(cell_ctr[t, mf_idxs_all[t]],axis=0)[0]\n",
    "#mf_mu\n",
    "mf_mu  = np.array([row_mu, col_mu])\n",
    "dist_par  = (cell_ctr[t,cidxs] - mf_mu).dot(mf_axes[t,0])\n",
    "dist_perp = (cell_ctr[t,cidxs] - mf_mu).dot(mf_axes[t,1])\n",
    "# mf_par  = mf_axes[t,0]-mf_center[t]+mf_mu # axes centered\n",
    "# mf_perp = mf_axes[t,1]-mf_center[t]+mf_mu # axes centered\n",
    "# mf_par  = mf_par / np.linalg.norm(mf_par)\n",
    "# mf_perp = mf_perp / np.linalg.norm(mf_perp)\n",
    "#mf_dists_par   = (cell_ctr[t,cidxs]-mf_mu).dot(mf_perp) / np.linalg.norm(mf_par)\n",
    "#mf_dists_perp  = (cell_ctr[t,cidxs]-mf_mu).dot(mf_perp) / np.linalg.norm(mf_perp)\n",
    "\n",
    "\n",
    "\n",
    "#col_mu = np.mean\n",
    "#dists              = cell_ctr[t,cidxs][:,np.newaxis] - cell_ctr[t,mf_idxs_all[t]][np.newaxis]"
   ]
  },
  {
   "cell_type": "code",
   "execution_count": 130,
   "metadata": {},
   "outputs": [
    {
     "data": {
      "text/plain": [
       "(array([37., 39., 31., 33., 36., 26., 30., 35., 30., 26.]),\n",
       " array([-280.39532747, -220.89253457, -161.38974167, -101.88694877,\n",
       "         -42.38415587,   17.11863703,   76.62142993,  136.12422283,\n",
       "         195.62701573,  255.12980863,  314.63260153]),\n",
       " <a list of 10 Patch objects>)"
      ]
     },
     "execution_count": 130,
     "metadata": {},
     "output_type": "execute_result"
    },
    {
     "data": {
      "image/png": "[encoded data removed]",
      "text/plain": [
       "<Figure size 432x288 with 1 Axes>"
      ]
     },
     "metadata": {
      "needs_background": "light"
     },
     "output_type": "display_data"
    }
   ],
   "source": [
    "fig,axs=plt.subplots()\n",
    "axs.hist(dist_par)"
   ]
  },
  {
   "cell_type": "code",
   "execution_count": 99,
   "metadata": {},
   "outputs": [
    {
     "data": {
      "text/plain": [
       "(0.0, 0.9895536984522739)"
      ]
     },
     "execution_count": 99,
     "metadata": {},
     "output_type": "execute_result"
    }
   ],
   "source": [
    "mf_axes[t,0].dot(mf_axes[t,1]), mf_par.dot(mf_perp)"
   ]
  },
  {
   "cell_type": "code",
   "execution_count": 112,
   "metadata": {},
   "outputs": [],
   "source": [
    "trans_mat = np.array([mf_mu+np.array([1,0]), mf_mu+[0,1]]).T"
   ]
  },
  {
   "cell_type": "code",
   "execution_count": 119,
   "metadata": {},
   "outputs": [],
   "source": [
    "mpar  = trans_mat.dot(mf_axes[t,0])\n",
    "mperp = trans_mat.dot(mf_axes[t,1])"
   ]
  },
  {
   "cell_type": "code",
   "execution_count": 122,
   "metadata": {},
   "outputs": [
    {
     "data": {
      "text/plain": [
       "(array([ -770.17171254, -1321.58365396]),\n",
       " array([ -794.18099412, -1360.01545616]))"
      ]
     },
     "execution_count": 122,
     "metadata": {},
     "output_type": "execute_result"
    }
   ],
   "source": [
    "mpar - mf_mu, mperp-mf_mu"
   ]
  },
  {
   "cell_type": "code",
   "execution_count": 120,
   "metadata": {},
   "outputs": [
    {
     "data": {
      "text/plain": [
       "602146.9266019058"
      ]
     },
     "execution_count": 120,
     "metadata": {},
     "output_type": "execute_result"
    }
   ],
   "source": [
    ".dot(mperp)"
   ]
  },
  {
   "cell_type": "code",
   "execution_count": 117,
   "metadata": {},
   "outputs": [
    {
     "data": {
      "text/plain": [
       "602146.9266019058"
      ]
     },
     "execution_count": 117,
     "metadata": {},
     "output_type": "execute_result"
    }
   ],
   "source": [
    "trans_mat.dot(mf_axes[t,0]).dot(trans_mat.dot(mf_axes[t,1]))"
   ]
  },
  {
   "cell_type": "code",
   "execution_count": null,
   "metadata": {},
   "outputs": [],
   "source": [
    "mmf_axs"
   ]
  },
  {
   "cell_type": "code",
   "execution_count": 50,
   "metadata": {},
   "outputs": [
    {
     "data": {
      "text/plain": [
       "array([390.93008017, 680.26662323])"
      ]
     },
     "execution_count": 50,
     "metadata": {},
     "output_type": "execute_result"
    }
   ],
   "source": [
    "col_mu = np.mean(cell_ctr[t, cidxs],axis=0)[1]\n",
    "np.mean(cell_ctr[t, mf_idxs_all[t]],axis=0)"
   ]
  },
  {
   "cell_type": "code",
   "execution_count": 65,
   "metadata": {},
   "outputs": [],
   "source": [
    "#len(mf_idxs_all[t]), len(cidxs)"
   ]
  },
  {
   "cell_type": "code",
   "execution_count": 66,
   "metadata": {},
   "outputs": [],
   "source": [
    "#row_mu, col_mu"
   ]
  },
  {
   "cell_type": "code",
   "execution_count": 67,
   "metadata": {},
   "outputs": [],
   "source": [
    "#cell_ctr[t,cidxs].shape"
   ]
  },
  {
   "cell_type": "code",
   "execution_count": 13,
   "metadata": {},
   "outputs": [
    {
     "name": "stdout",
     "output_type": "stream",
     "text": [
      "...................."
     ]
    },
    {
     "data": {
      "image/png": "[encoded data removed]",
      "text/plain": [
       "<Figure size 4000x4000 with 1 Axes>"
      ]
     },
     "metadata": {},
     "output_type": "display_data"
    }
   ],
   "source": [
    "# make the movie:\n",
    "fps = 7\n",
    "\n",
    "# First set up the figure, the axis, and the plot element we want to animate\n",
    "fig,axs = plt.subplots( figsize=(20,20), dpi=200 )\n",
    "im = axs.imshow(imgs[0], interpolation='none', aspect='auto')\n",
    "ttl = axs.text(0.1,0.9,\"\",bbox={'facecolor':'w', 'alpha':0.5, 'pad':5},transform=axs.transAxes)\n",
    "axs.set_xticks([])\n",
    "axs.set_yticks([])\n",
    "\n",
    "def animate_func(i):\n",
    "    if i % fps == 0:\n",
    "        print( '.', end ='' )\n",
    "\n",
    "    im.set_array(imgs[i])\n",
    "    ttl.set_text('frame {0}'.format(i))\n",
    "    return [im]\n",
    "\n",
    "anim = animation.FuncAnimation(\n",
    "                               fig, \n",
    "                               animate_func, \n",
    "                               frames = len(imgs),\n",
    "                               interval = 1000 / fps, # in ms\n",
    "                               )\n",
    "\n",
    "anim.save('{0}/{1}.mp4'.format(plotdir,nm), fps=fps)#, extra_args=['-libx264']) # extra_args=['-vcodec', 'libx264'])"
   ]
  },
  {
   "cell_type": "code",
   "execution_count": 136,
   "metadata": {},
   "outputs": [
    {
     "data": {
      "text/plain": [
       "'/Users/simonfreedman//data/droso/ommatidia_data/wildtype2/obs'"
      ]
     },
     "execution_count": 136,
     "metadata": {},
     "output_type": "execute_result"
    }
   ],
   "source": [
    "outdir"
   ]
  },
  {
   "cell_type": "code",
   "execution_count": 85,
   "metadata": {},
   "outputs": [],
   "source": [
    "# how to pull cell coordinates\n",
    "# read the README in dat1\n",
    "# i want the coordinates of the R2 cell in precluster 1 at time 5\n",
    "# in matlab R8 = 1, R2 = 2, R5 = 3, R3 = 4, R4 = 5 \n",
    "\n",
    "\n",
    "\n",
    "# preclusterID    = 0\n",
    "# photoreceptorID = 6\n",
    "# times           = np.arange(10)\n",
    "# nrow, ncol, nt  = dat1['raw_images'].shape\n",
    "# imgs            = np.zeros((len(times),nrow, ncol))\n",
    "# for t in times:\n",
    "#     for c_idx in range(cell_pixel_idx.shape[1]):\n",
    "#         if cell_pixel_idx[t,c_idx] > -1:\n",
    "#             pix                        = cell_pixels[cell_pixel_idx[t,c_idx]]\n",
    "#             imgs[t,pix[:,0],pix[:,1]] += 1\n",
    "#     for pr_idx in precl_idxs.reshape(-1):\n",
    "#         pix = cell_pixels[cell_pixel_idx[t,pr_idx]]\n",
    "#         imgs[t,pix[:,0],pix[:,1]] += 1\n",
    "    \n",
    "\n",
    "#     for prID in np.arange(5):\n",
    "#         imgs[t,cell_pixel_idx_]\n",
    "#         #cell_id  = int(dat1['preclusters'][preclusterID][prID]) - 1\n",
    "#         #track_id = int(dat1['tracks'][cell_id,t]) - 1\n",
    "#         track_id = int(dat1['tracks'][photorecep_cell_idxs[photoreceptorID,prID],t]) - 1\n",
    "#         pix      =  np.array(dat1['cell_area'][t][0][track_id][0],dtype='int') - 1 \n",
    "#         imgs[t,pix[:,0],pix[:,1]] = prID+1 #prID*60+1\n",
    "        #imgs[t] += np.array(dat1['raw_images'][...,t],dtype='int')\n",
    "#pix =  np.array(dat1['cell_area'][time][0][cellID][0],dtype='int')\n"
   ]
  },
  {
   "cell_type": "code",
   "execution_count": null,
   "metadata": {},
   "outputs": [],
   "source": []
  },
  {
   "cell_type": "code",
   "execution_count": 185,
   "metadata": {},
   "outputs": [
    {
     "data": {
      "text/plain": [
       "<matplotlib.lines.Line2D at 0x7fe020f8a150>"
      ]
     },
     "execution_count": 185,
     "metadata": {},
     "output_type": "execute_result"
    },
    {
     "data": {
      "image/png": "[encoded data removed]",
      "text/plain": [
       "<Figure size 432x288 with 2 Axes>"
      ]
     },
     "metadata": {
      "needs_background": "light"
     },
     "output_type": "display_data"
    }
   ],
   "source": [
    "fig,axs=plt.subplots(1,2)\n",
    "t = 5\n",
    "ctrs = cell_ctr[t,mf_idxs_all[t]]\n",
    "#pix = cell_pixels[cell_pixel_idx[t, mf_idxs_all_t]]\n",
    "pix = np.vstack([cell_pixels[cell_pixel_idx[t, k]] for k in mf_idxs_all[t]])\n",
    "axs[0].hist(ctrs[:,0],20)\n",
    "axs[1].hist(pix[:,0],20)\n",
    "axs[0].axvline(np.mean(ctrs[:,0]))\n",
    "axs[0].axvline(np.mean(ctrs[:,0])-1*np.std(ctrs[:,0]), color='red')\n",
    "axs[0].axvline(np.mean(ctrs[:,0])+1*np.std(ctrs[:,0]), color='red')\n",
    "axs[1].axvline(np.mean(pix[:,0])-1*np.std(pix[:,0]), color='red')\n",
    "axs[1].axvline(np.mean(pix[:,0])+1*np.std(pix[:,0]), color='red')"
   ]
  },
  {
   "cell_type": "code",
   "execution_count": 212,
   "metadata": {},
   "outputs": [],
   "source": [
    "pix_pca = PCA().fit(pix)"
   ]
  },
  {
   "cell_type": "code",
   "execution_count": 225,
   "metadata": {},
   "outputs": [
    {
     "data": {
      "text/plain": [
       "(40837, 2)"
      ]
     },
     "execution_count": 225,
     "metadata": {},
     "output_type": "execute_result"
    }
   ],
   "source": []
  },
  {
   "cell_type": "code",
   "execution_count": 215,
   "metadata": {},
   "outputs": [
    {
     "data": {
      "text/plain": [
       "array([332.17609031, 363.72184539])"
      ]
     },
     "execution_count": 215,
     "metadata": {},
     "output_type": "execute_result"
    }
   ],
   "source": [
    "pix_pca.components_\n",
    "pix_mu = np.mean(pix,axis=0)\n",
    "pix_mu"
   ]
  },
  {
   "cell_type": "code",
   "execution_count": 192,
   "metadata": {},
   "outputs": [],
   "source": [
    "mf_pix = [np.vstack([cell_pixels[cell_pixel_idx[t, k]] for k in mf_idxs_all[t]]) for t in range(nt)]"
   ]
  },
  {
   "cell_type": "code",
   "execution_count": 196,
   "metadata": {},
   "outputs": [],
   "source": [
    "pix_var = np.array(list(map(lambda x: np.var(x, axis=0),mf_pix)))"
   ]
  },
  {
   "cell_type": "code",
   "execution_count": 202,
   "metadata": {},
   "outputs": [
    {
     "data": {
      "text/plain": [
       "(array([22.,  3.,  7.,  7., 17.,  4.,  5.,  4.,  1.,  2.]),\n",
       " array([1123.75507959, 1815.08650673, 2506.41793388, 3197.74936103,\n",
       "        3889.08078818, 4580.41221532, 5271.74364247, 5963.07506962,\n",
       "        6654.40649677, 7345.73792391, 8037.06935106]),\n",
       " <a list of 10 Patch objects>)"
      ]
     },
     "execution_count": 202,
     "metadata": {},
     "output_type": "execute_result"
    },
    {
     "data": {
      "image/png": "[encoded data removed]",
      "text/plain": [
       "<Figure size 432x288 with 1 Axes>"
      ]
     },
     "metadata": {
      "needs_background": "light"
     },
     "output_type": "display_data"
    }
   ],
   "source": [
    "fig,axs=plt.subplots()\n",
    "#axs.plot(range(nt),pix_var[:,1])\n",
    "axs.hist(pix_var[:,0])"
   ]
  },
  {
   "cell_type": "code",
   "execution_count": 210,
   "metadata": {},
   "outputs": [
    {
     "data": {
      "text/plain": [
       "(array([ 3,  8, 11, 15, 16, 17, 19, 20, 23, 25, 26, 29, 31, 32, 33, 34, 36,\n",
       "        37, 38, 39, 40, 41, 42, 43, 44, 45, 46, 47, 48, 49, 50, 53, 54, 55,\n",
       "        56, 57, 58, 60, 61, 62, 63, 65, 66, 67, 68, 69, 70, 71]),)"
      ]
     },
     "execution_count": 210,
     "metadata": {},
     "output_type": "execute_result"
    }
   ],
   "source": [
    "np.where(pix_var[:,0]>2000)"
   ]
  },
  {
   "cell_type": "code",
   "execution_count": 229,
   "metadata": {},
   "outputs": [
    {
     "data": {
      "text/plain": [
       "(array([[332.17609031, 363.72184539],\n",
       "        [336.1026848 , 413.56742549]]),\n",
       " array([332.17609031, 363.72184539]),\n",
       " array([332.17609031, 336.1026848 ]))"
      ]
     },
     "execution_count": 229,
     "metadata": {},
     "output_type": "execute_result"
    }
   ],
   "source": [
    "pts0,pix_mu,pts0[:,0]"
   ]
  },
  {
   "cell_type": "code",
   "execution_count": 345,
   "metadata": {},
   "outputs": [],
   "source": [
    "t = 0\n",
    "ctrs = cell_ctr[t,mf_idxs_all[t]]\n",
    "pca_ctr_coords = pix_pca.components_.dot(ctrs.T).T #np.linalg.pix_pca.components_.T\n",
    "#np.where(pca_ctr_)"
   ]
  },
  {
   "cell_type": "code",
   "execution_count": 368,
   "metadata": {},
   "outputs": [],
   "source": [
    "#gmm_ctrs_pca = GMM(n_components=2).fit(pca_ctr_coords) for i in range(3)]\n",
    "t=0\n",
    "ctrs = cell_ctr[t,mf_idxs] #mf_idxs_all[t]]\n",
    "gmm_ctrs     = [GMM(n_components=i).fit(ctrs[:,[0]]) for i in [1,2]]"
   ]
  },
  {
   "cell_type": "code",
   "execution_count": 347,
   "metadata": {},
   "outputs": [
    {
     "data": {
      "text/plain": [
       "True"
      ]
     },
     "execution_count": 347,
     "metadata": {},
     "output_type": "execute_result"
    }
   ],
   "source": [
    "m=np.array([x.bic(ctrs) for x in gmm_ctrs])\n",
    "m[0]<m[1]*1.01\n",
    "#m[1]/m[0]"
   ]
  },
  {
   "cell_type": "code",
   "execution_count": 321,
   "metadata": {},
   "outputs": [
    {
     "ename": "IndexError",
     "evalue": "list index out of range",
     "output_type": "error",
     "traceback": [
      "\u001b[0;31m---------------------------------------------------------------------------\u001b[0m",
      "\u001b[0;31mIndexError\u001b[0m                                Traceback (most recent call last)",
      "\u001b[0;32m<ipython-input-321-4ab89feda656>\u001b[0m in \u001b[0;36m<module>\u001b[0;34m\u001b[0m\n\u001b[0;32m----> 1\u001b[0;31m \u001b[0mgmm_ctrs\u001b[0m\u001b[0;34m[\u001b[0m\u001b[0;36m2\u001b[0m\u001b[0;34m]\u001b[0m\u001b[0;34m.\u001b[0m\u001b[0mpredict\u001b[0m\u001b[0;34m(\u001b[0m\u001b[0mctrs\u001b[0m\u001b[0;34m)\u001b[0m \u001b[0;31m#- gmm_ctrs_pca\u001b[0m\u001b[0;34m\u001b[0m\u001b[0;34m\u001b[0m\u001b[0m\n\u001b[0m",
      "\u001b[0;31mIndexError\u001b[0m: list index out of range"
     ]
    }
   ],
   "source": [
    "gmm_ctrs[2].predict(ctrs) #- gmm_ctrs_pca"
   ]
  },
  {
   "cell_type": "code",
   "execution_count": 269,
   "metadata": {},
   "outputs": [
    {
     "data": {
      "text/plain": [
       "<matplotlib.lines.Line2D at 0x7fdd03cc1e10>"
      ]
     },
     "execution_count": 269,
     "metadata": {},
     "output_type": "execute_result"
    },
    {
     "data": {
      "image/png": "[encoded data removed]",
      "text/plain": [
       "<Figure size 432x288 with 1 Axes>"
      ]
     },
     "metadata": {
      "needs_background": "light"
     },
     "output_type": "display_data"
    }
   ],
   "source": [
    "fig,axs=plt.subplots()\n",
    "axs.hist(pca_ctr_coords[:,1])\n",
    "axs.axvline(np.quantile(pca_ctr_coords[:,1],0.85))\n",
    "axs.axvline(np.mean(pca_ctr_coords[:,1])+np.std(pca_ctr_coords[:,1]), color='red')\n",
    "axs.axvline(np.mean(pca_ctr_coords[:,1])-np.std(pca_ctr_coords[:,1]), color='red')"
   ]
  },
  {
   "cell_type": "code",
   "execution_count": 250,
   "metadata": {},
   "outputs": [
    {
     "data": {
      "text/plain": [
       "(205, 2)"
      ]
     },
     "execution_count": 250,
     "metadata": {},
     "output_type": "execute_result"
    }
   ],
   "source": [
    "pca_ctr_coords.shape"
   ]
  },
  {
   "cell_type": "code",
   "execution_count": 255,
   "metadata": {},
   "outputs": [
    {
     "data": {
      "text/plain": [
       "1.1368683772161603e-13"
      ]
     },
     "execution_count": 255,
     "metadata": {},
     "output_type": "execute_result"
    }
   ],
   "source": [
    "np.amax(np.array([np.max(np.abs(pix_pca.components_.dot(ctrs[n])- pca_ctr_coords[n])) \n",
    "                  for n in range(pca_ctr_coords.shape[0])]))"
   ]
  },
  {
   "cell_type": "code",
   "execution_count": 243,
   "metadata": {},
   "outputs": [
    {
     "data": {
      "text/plain": [
       "(array([[ 0.07853189, -0.9969116 ],\n",
       "        [ 0.9969116 ,  0.07853189]]), array([[ 0.07853189,  0.9969116 ],\n",
       "        [-0.9969116 ,  0.07853189]]))"
      ]
     },
     "execution_count": 243,
     "metadata": {},
     "output_type": "execute_result"
    }
   ],
   "source": [
    "pix_pca.components_.T,np.linalg.inv(pix_pca.components_.T)"
   ]
  },
  {
   "cell_type": "code",
   "execution_count": 245,
   "metadata": {},
   "outputs": [
    {
     "data": {
      "text/plain": [
       "array([[-2.77555756e-17, -3.33066907e-16],\n",
       "       [ 3.33066907e-16, -2.77555756e-17]])"
      ]
     },
     "execution_count": 245,
     "metadata": {},
     "output_type": "execute_result"
    }
   ],
   "source": [
    "np.linalg.inv(pix_pca.components_.T)-pix_pca.components_"
   ]
  },
  {
   "cell_type": "code",
   "execution_count": 350,
   "metadata": {},
   "outputs": [
    {
     "data": {
      "text/plain": [
       "array([], dtype=int64)"
      ]
     },
     "execution_count": 350,
     "metadata": {},
     "output_type": "execute_result"
    }
   ],
   "source": [
    "mf_idxs_all[42]"
   ]
  }
 ],
 "metadata": {
  "kernelspec": {
   "display_name": "Python [conda env:img]",
   "language": "python",
   "name": "conda-env-img-py"
  },
  "language_info": {
   "codemirror_mode": {
    "name": "ipython",
    "version": 3
   },
   "file_extension": ".py",
   "mimetype": "text/x-python",
   "name": "python",
   "nbconvert_exporter": "python",
   "pygments_lexer": "ipython3",
   "version": "3.7.4"
  }
 },
 "nbformat": 4,
 "nbformat_minor": 2
}
